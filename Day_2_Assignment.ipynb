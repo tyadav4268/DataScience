{
 "cells": [
  {
   "cell_type": "markdown",
   "metadata": {},
   "source": [
    "# Questions 1:\n",
    "Create an empty list. Accept 10 numbers from the user and append to it the list if it is an even number.\n",
    "\n",
    "SOLUTION:"
   ]
  },
  {
   "cell_type": "code",
   "execution_count": 12,
   "metadata": {},
   "outputs": [
    {
     "name": "stdout",
     "output_type": "stream",
     "text": [
      "1\n",
      "2\n",
      "3\n",
      "4\n",
      "5\n",
      "6\n",
      "7\n",
      "8\n",
      "9\n",
      "10\n",
      "[2, 4, 6, 8, 10]\n"
     ]
    }
   ],
   "source": [
    "evenList = []\n",
    "for i in range(10):\n",
    "    number = int(input())\n",
    "    if number % 2 == 0:\n",
    "        evenList.append(number)\n",
    "print(evenList)"
   ]
  },
  {
   "cell_type": "markdown",
   "metadata": {},
   "source": [
    "# Questions 2:\n",
    "Create a notebook on LIST COMPREHENSION. This exercise is to put you in a Self learning mode.\n",
    "\n",
    "SOLUTION:"
   ]
  },
  {
   "cell_type": "code",
   "execution_count": 13,
   "metadata": {},
   "outputs": [
    {
     "name": "stdout",
     "output_type": "stream",
     "text": [
      "[1, 4, 9, 16, 25, 36, 49, 64, 81, 100]\n",
      "[0, 2, 4, 6, 8]\n",
      "[1, 3, 5, 7, 9]\n"
     ]
    }
   ],
   "source": [
    "# List Comprehension is a way to shorten our code and create a list\n",
    "\n",
    "# This following code creates a list of squares of numbers from 1 to n\n",
    "n = 10\n",
    "list_1 = [n**2 for n in range(1,n+1)]\n",
    "print(list_1)\n",
    "\n",
    "# The following code create a list of even numbers upto n\n",
    "list_2 = [n for n in range(n) if n%2 == 0]\n",
    "print(list_2)\n",
    "\n",
    "# The following code create a list of odd numbers upto n\n",
    "list_3 = [n for n in range(n) if n%2]\n",
    "print(list_3)"
   ]
  },
  {
   "cell_type": "markdown",
   "metadata": {},
   "source": [
    "# Questions 3:\n",
    "You have seen in the videos how powerful dictionary data structure is.\n",
    "In this assignment, given a number n, you have to write a program that generates a dictionary d which\n",
    "contains (i, i*i), where i is from 1 to n (both included).\n",
    "Then you have to just print this dictionary d.<br>Example:<br>\n",
    "Input:<br> 4<br>\n",
    "will give output as<br>\n",
    "{1: 1, 2: 4, 3: 9, 4: 16}<br>\n",
    "Input Format:\n",
    "Take the number n in a single line.\n",
    "Output Format:\n",
    "Print the dictionary d in a single line.\n",
    "Example:<br>\n",
    "Input:<br>\n",
    "8<br>\n",
    "Output:<br>\n",
    "{1: 1, 2: 4, 3: 9, 4: 16, 5: 25, 6: 36, 7: 49, 8: 64}\n",
    "\n",
    "SOLUTION:"
   ]
  },
  {
   "cell_type": "code",
   "execution_count": 14,
   "metadata": {},
   "outputs": [
    {
     "name": "stdout",
     "output_type": "stream",
     "text": [
      "4\n",
      "{1: 1, 2: 4, 3: 9, 4: 16}\n"
     ]
    }
   ],
   "source": [
    "sqDict = {}\n",
    "n = int(input())\n",
    "for i in range(1, n+1):\n",
    "    sqDict[i] = i*i\n",
    "print(sqDict)"
   ]
  },
  {
   "cell_type": "markdown",
   "metadata": {},
   "source": [
    "# Questions 4:\n",
    "There is a robot which wants to go the charging point to charge itself.\n",
    "The robot moves in a 2-D plane from the original point (0,0). The robot can\n",
    "move toward UP, DOWN, LEFT and RIGHT with given steps.\n",
    "The trace of robot movement is shown as the following:<br>\n",
    "UP 5<br>\n",
    "DOWN 3<br>\n",
    "LEFT 3<br>\n",
    "RIGHT 2<br>\n",
    "Then, the output of the program should be:\n",
    "2\n",
    "The numbers after the direction are steps.\n",
    "Write a program to compute the distance between the current position after\n",
    "a sequence of movement and original point. If the distance is a float, then\n",
    "just print the nearest integer (use round() function for that and then convert\n",
    "it into an integer).\n",
    "Input Format:\n",
    "The first line of the input contains a number n which implies the number of\n",
    "directions to be given.\n",
    "The next n lines contain the direction and the step separated by a space.\n",
    "Output Format:\n",
    "Print the distance from the original position to the current position.<br>\n",
    "Example:<br>\n",
    "Input:<br>\n",
    "4<br>\n",
    "UP 5<br>\n",
    "DOWN 3<br>\n",
    "LEFT 3<br>\n",
    "RIGHT 2<br>\n",
    "Output:<br>\n",
    "2\n",
    "\n",
    "SOLUTION: "
   ]
  },
  {
   "cell_type": "code",
   "execution_count": 16,
   "metadata": {},
   "outputs": [
    {
     "name": "stdout",
     "output_type": "stream",
     "text": [
      "4\n",
      "UP 5\n",
      "DOWN 3\n",
      "LEFT 3\n",
      "RIGHT 2\n",
      "2\n"
     ]
    }
   ],
   "source": [
    "import math\n",
    "n = int(input())\n",
    "startX = 0\n",
    "startY = 0\n",
    "endX = 0\n",
    "endY = 0\n",
    "distance = 0\n",
    "for i in range(n):\n",
    "    command = input().split()\n",
    "    direction = command[0].lower()\n",
    "    steps = int(command[1])\n",
    "    if direction == 'up':\n",
    "        endY += steps\n",
    "    elif direction == 'down':\n",
    "        endY -= steps\n",
    "    elif direction == 'right':\n",
    "        endX += steps\n",
    "    elif direction == 'left' :\n",
    "        endX -= steps\n",
    "distance = int(round(math.sqrt((endX)**2 + (endY)**2)))\n",
    "print(distance)"
   ]
  }
 ],
 "metadata": {
  "kernelspec": {
   "display_name": "Python 3",
   "language": "python",
   "name": "python3"
  },
  "language_info": {
   "codemirror_mode": {
    "name": "ipython",
    "version": 3
   },
   "file_extension": ".py",
   "mimetype": "text/x-python",
   "name": "python",
   "nbconvert_exporter": "python",
   "pygments_lexer": "ipython3",
   "version": "3.8.3"
  }
 },
 "nbformat": 4,
 "nbformat_minor": 4
}
